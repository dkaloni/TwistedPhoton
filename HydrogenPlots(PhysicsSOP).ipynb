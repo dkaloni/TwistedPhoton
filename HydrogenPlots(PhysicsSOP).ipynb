{
  "nbformat": 4,
  "nbformat_minor": 0,
  "metadata": {
    "colab": {
      "name": "HydrogenPlots(PhysicsSOP).ipynb",
      "provenance": [],
      "collapsed_sections": [],
      "authorship_tag": "ABX9TyNYZHSfZYTXdLR6wuK4m735"
    },
    "kernelspec": {
      "name": "python3",
      "display_name": "Python 3"
    }
  },
  "cells": [
    {
      "cell_type": "code",
      "metadata": {
        "id": "DK0A4B9Ec2US",
        "outputId": "579777e4-f475-46fe-b4a4-2d50ca0cd1a3",
        "colab": {
          "base_uri": "https://localhost:8080/"
        }
      },
      "source": [
        "print(\"Hello World\")"
      ],
      "execution_count": null,
      "outputs": [
        {
          "output_type": "stream",
          "text": [
            "Hello World\n"
          ],
          "name": "stdout"
        }
      ]
    },
    {
      "cell_type": "markdown",
      "metadata": {
        "id": "zYVJwIM_glvn"
      },
      "source": [
        "Elastic Scattering \n",
        "\n",
        "Direct Scattering, ki=kj=k\n",
        "First Born Direct Elastic Scattering Amplitude"
      ]
    },
    {
      "cell_type": "code",
      "metadata": {
        "id": "EY-tinbwfAj8",
        "outputId": "77bd0627-7f50-48d2-c9f2-4a305fe52349",
        "colab": {
          "base_uri": "https://localhost:8080/",
          "height": 350
        }
      },
      "source": [
        "# Import libraries \n",
        "import matplotlib.pyplot as plt \n",
        "import numpy as np \n",
        "  \n",
        "# Creating vectors X and Y \n",
        "x = np.linspace(0, 1, 100) \n",
        "k = 2\n",
        "delta = 2*k*np.sin(x/2)\n",
        "y = 2*((delta)**2+8)/(((delta)**2+4)**2) \n",
        "  \n",
        "fig = plt.figure(figsize = (10, 5)) \n",
        "# Create the plot \n",
        "plt.plot(x, y) \n",
        "  \n",
        "plt.title('Elastic Scattering') \n",
        "plt.xlabel('Theta') \n",
        "plt.ylabel('Scattering Amplitude') \n",
        "  \n",
        "# Show the plot \n",
        "plt.show() "
      ],
      "execution_count": null,
      "outputs": [
        {
          "output_type": "display_data",
          "data": {
            "image/png": "[encoded data removed]",
            "text/plain": [
              "<Figure size 720x360 with 1 Axes>"
            ]
          },
          "metadata": {
            "tags": [],
            "needs_background": "light"
          }
        }
      ]
    },
    {
      "cell_type": "markdown",
      "metadata": {
        "id": "0dv1azK_YUGa"
      },
      "source": [
        "First Born Cross Section(Elastic)"
      ]
    },
    {
      "cell_type": "code",
      "metadata": {
        "id": "aygPmFdQYD72",
        "outputId": "b7ea22ab-ecdf-4cdd-f5c9-86ed0c9b943b",
        "colab": {
          "base_uri": "https://localhost:8080/",
          "height": 558
        }
      },
      "source": [
        "x = np.linspace(0, 1, 100) \n",
        "k = 2\n",
        "delta = 2*k*(np.sin(x/2))\n",
        "y = 2*((delta)**2+8)/(((delta)**2+4)**2) \n",
        "x = sym.Symbol('x', real=True)\n",
        "def f(x):\n",
        "    return y*delta(delta)\n",
        "I_exacta = sym.integrate(f,(x,0,2*k))\n",
        "print(I_exacta)"
      ],
      "execution_count": null,
      "outputs": [
        {
          "output_type": "error",
          "ename": "SympifyError",
          "evalue": "ignored",
          "traceback": [
            "\u001b[0;31m---------------------------------------------------------------------------\u001b[0m",
            "\u001b[0;31mSyntaxError\u001b[0m                               Traceback (most recent call last)",
            "\u001b[0;32m/usr/local/lib/python3.6/dist-packages/sympy/core/sympify.py\u001b[0m in \u001b[0;36msympify\u001b[0;34m(a, locals, convert_xor, strict, rational, evaluate)\u001b[0m\n\u001b[1;32m    353\u001b[0m         \u001b[0ma\u001b[0m \u001b[0;34m=\u001b[0m \u001b[0ma\u001b[0m\u001b[0;34m.\u001b[0m\u001b[0mreplace\u001b[0m\u001b[0;34m(\u001b[0m\u001b[0;34m'\\n'\u001b[0m\u001b[0;34m,\u001b[0m \u001b[0;34m''\u001b[0m\u001b[0;34m)\u001b[0m\u001b[0;34m\u001b[0m\u001b[0;34m\u001b[0m\u001b[0m\n\u001b[0;32m--> 354\u001b[0;31m         \u001b[0mexpr\u001b[0m \u001b[0;34m=\u001b[0m \u001b[0mparse_expr\u001b[0m\u001b[0;34m(\u001b[0m\u001b[0ma\u001b[0m\u001b[0;34m,\u001b[0m \u001b[0mlocal_dict\u001b[0m\u001b[0;34m=\u001b[0m\u001b[0mlocals\u001b[0m\u001b[0;34m,\u001b[0m \u001b[0mtransformations\u001b[0m\u001b[0;34m=\u001b[0m\u001b[0mtransformations\u001b[0m\u001b[0;34m,\u001b[0m \u001b[0mevaluate\u001b[0m\u001b[0;34m=\u001b[0m\u001b[0mevaluate\u001b[0m\u001b[0;34m)\u001b[0m\u001b[0;34m\u001b[0m\u001b[0;34m\u001b[0m\u001b[0m\n\u001b[0m\u001b[1;32m    355\u001b[0m     \u001b[0;32mexcept\u001b[0m \u001b[0;34m(\u001b[0m\u001b[0mTokenError\u001b[0m\u001b[0;34m,\u001b[0m \u001b[0mSyntaxError\u001b[0m\u001b[0;34m)\u001b[0m \u001b[0;32mas\u001b[0m \u001b[0mexc\u001b[0m\u001b[0;34m:\u001b[0m\u001b[0;34m\u001b[0m\u001b[0;34m\u001b[0m\u001b[0m\n",
            "\u001b[0;32m/usr/local/lib/python3.6/dist-packages/sympy/parsing/sympy_parser.py\u001b[0m in \u001b[0;36mparse_expr\u001b[0;34m(s, local_dict, transformations, global_dict, evaluate)\u001b[0m\n\u001b[1;32m    893\u001b[0m \u001b[0;34m\u001b[0m\u001b[0m\n\u001b[0;32m--> 894\u001b[0;31m     \u001b[0;32mreturn\u001b[0m \u001b[0meval_expr\u001b[0m\u001b[0;34m(\u001b[0m\u001b[0mcode\u001b[0m\u001b[0;34m,\u001b[0m \u001b[0mlocal_dict\u001b[0m\u001b[0;34m,\u001b[0m \u001b[0mglobal_dict\u001b[0m\u001b[0;34m)\u001b[0m\u001b[0;34m\u001b[0m\u001b[0;34m\u001b[0m\u001b[0m\n\u001b[0m\u001b[1;32m    895\u001b[0m \u001b[0;34m\u001b[0m\u001b[0m\n",
            "\u001b[0;32m/usr/local/lib/python3.6/dist-packages/sympy/parsing/sympy_parser.py\u001b[0m in \u001b[0;36meval_expr\u001b[0;34m(code, local_dict, global_dict)\u001b[0m\n\u001b[1;32m    806\u001b[0m     expr = eval(\n\u001b[0;32m--> 807\u001b[0;31m         code, global_dict, local_dict)  # take local objects in preference\n\u001b[0m\u001b[1;32m    808\u001b[0m \u001b[0;34m\u001b[0m\u001b[0m\n",
            "\u001b[0;31mSyntaxError\u001b[0m: invalid syntax (<string>, line 1)",
            "\nDuring handling of the above exception, another exception occurred:\n",
            "\u001b[0;31mSympifyError\u001b[0m                              Traceback (most recent call last)",
            "\u001b[0;32m<ipython-input-8-a30dcd55e265>\u001b[0m in \u001b[0;36m<module>\u001b[0;34m()\u001b[0m\n\u001b[1;32m      7\u001b[0m \u001b[0;32mdef\u001b[0m \u001b[0mf\u001b[0m\u001b[0;34m(\u001b[0m\u001b[0mx\u001b[0m\u001b[0;34m)\u001b[0m\u001b[0;34m:\u001b[0m\u001b[0;34m\u001b[0m\u001b[0;34m\u001b[0m\u001b[0m\n\u001b[1;32m      8\u001b[0m     \u001b[0;32mreturn\u001b[0m \u001b[0my\u001b[0m\u001b[0;34m*\u001b[0m\u001b[0mdelta\u001b[0m\u001b[0;34m(\u001b[0m\u001b[0mdelta\u001b[0m\u001b[0;34m)\u001b[0m\u001b[0;34m\u001b[0m\u001b[0;34m\u001b[0m\u001b[0m\n\u001b[0;32m----> 9\u001b[0;31m \u001b[0mI_exacta\u001b[0m \u001b[0;34m=\u001b[0m \u001b[0msym\u001b[0m\u001b[0;34m.\u001b[0m\u001b[0mintegrate\u001b[0m\u001b[0;34m(\u001b[0m\u001b[0mf\u001b[0m\u001b[0;34m,\u001b[0m\u001b[0;34m(\u001b[0m\u001b[0mx\u001b[0m\u001b[0;34m,\u001b[0m\u001b[0;36m0\u001b[0m\u001b[0;34m,\u001b[0m\u001b[0;36m2\u001b[0m\u001b[0;34m*\u001b[0m\u001b[0mk\u001b[0m\u001b[0;34m)\u001b[0m\u001b[0;34m)\u001b[0m\u001b[0;34m\u001b[0m\u001b[0;34m\u001b[0m\u001b[0m\n\u001b[0m\u001b[1;32m     10\u001b[0m \u001b[0mprint\u001b[0m\u001b[0;34m(\u001b[0m\u001b[0mI_exacta\u001b[0m\u001b[0;34m)\u001b[0m\u001b[0;34m\u001b[0m\u001b[0;34m\u001b[0m\u001b[0m\n",
            "\u001b[0;32m/usr/local/lib/python3.6/dist-packages/sympy/integrals/integrals.py\u001b[0m in \u001b[0;36mintegrate\u001b[0;34m(*args, **kwargs)\u001b[0m\n\u001b[1;32m   1289\u001b[0m     \u001b[0mrisch\u001b[0m \u001b[0;34m=\u001b[0m \u001b[0mkwargs\u001b[0m\u001b[0;34m.\u001b[0m\u001b[0mpop\u001b[0m\u001b[0;34m(\u001b[0m\u001b[0;34m'risch'\u001b[0m\u001b[0;34m,\u001b[0m \u001b[0;32mNone\u001b[0m\u001b[0;34m)\u001b[0m\u001b[0;34m\u001b[0m\u001b[0;34m\u001b[0m\u001b[0m\n\u001b[1;32m   1290\u001b[0m     \u001b[0mmanual\u001b[0m \u001b[0;34m=\u001b[0m \u001b[0mkwargs\u001b[0m\u001b[0;34m.\u001b[0m\u001b[0mpop\u001b[0m\u001b[0;34m(\u001b[0m\u001b[0;34m'manual'\u001b[0m\u001b[0;34m,\u001b[0m \u001b[0;32mNone\u001b[0m\u001b[0;34m)\u001b[0m\u001b[0;34m\u001b[0m\u001b[0;34m\u001b[0m\u001b[0m\n\u001b[0;32m-> 1291\u001b[0;31m     \u001b[0mintegral\u001b[0m \u001b[0;34m=\u001b[0m \u001b[0mIntegral\u001b[0m\u001b[0;34m(\u001b[0m\u001b[0;34m*\u001b[0m\u001b[0margs\u001b[0m\u001b[0;34m,\u001b[0m \u001b[0;34m**\u001b[0m\u001b[0mkwargs\u001b[0m\u001b[0;34m)\u001b[0m\u001b[0;34m\u001b[0m\u001b[0;34m\u001b[0m\u001b[0m\n\u001b[0m\u001b[1;32m   1292\u001b[0m \u001b[0;34m\u001b[0m\u001b[0m\n\u001b[1;32m   1293\u001b[0m     \u001b[0;32mif\u001b[0m \u001b[0misinstance\u001b[0m\u001b[0;34m(\u001b[0m\u001b[0mintegral\u001b[0m\u001b[0;34m,\u001b[0m \u001b[0mIntegral\u001b[0m\u001b[0;34m)\u001b[0m\u001b[0;34m:\u001b[0m\u001b[0;34m\u001b[0m\u001b[0;34m\u001b[0m\u001b[0m\n",
            "\u001b[0;32m/usr/local/lib/python3.6/dist-packages/sympy/integrals/integrals.py\u001b[0m in \u001b[0;36m__new__\u001b[0;34m(cls, function, *symbols, **assumptions)\u001b[0m\n\u001b[1;32m     73\u001b[0m             \u001b[0;32mreturn\u001b[0m \u001b[0mfunction\u001b[0m\u001b[0;34m.\u001b[0m\u001b[0m_eval_Integral\u001b[0m\u001b[0;34m(\u001b[0m\u001b[0;34m*\u001b[0m\u001b[0msymbols\u001b[0m\u001b[0;34m,\u001b[0m \u001b[0;34m**\u001b[0m\u001b[0massumptions\u001b[0m\u001b[0;34m)\u001b[0m\u001b[0;34m\u001b[0m\u001b[0;34m\u001b[0m\u001b[0m\n\u001b[1;32m     74\u001b[0m \u001b[0;34m\u001b[0m\u001b[0m\n\u001b[0;32m---> 75\u001b[0;31m         \u001b[0mobj\u001b[0m \u001b[0;34m=\u001b[0m \u001b[0mAddWithLimits\u001b[0m\u001b[0;34m.\u001b[0m\u001b[0m__new__\u001b[0m\u001b[0;34m(\u001b[0m\u001b[0mcls\u001b[0m\u001b[0;34m,\u001b[0m \u001b[0mfunction\u001b[0m\u001b[0;34m,\u001b[0m \u001b[0;34m*\u001b[0m\u001b[0msymbols\u001b[0m\u001b[0;34m,\u001b[0m \u001b[0;34m**\u001b[0m\u001b[0massumptions\u001b[0m\u001b[0;34m)\u001b[0m\u001b[0;34m\u001b[0m\u001b[0;34m\u001b[0m\u001b[0m\n\u001b[0m\u001b[1;32m     76\u001b[0m         \u001b[0;32mreturn\u001b[0m \u001b[0mobj\u001b[0m\u001b[0;34m\u001b[0m\u001b[0;34m\u001b[0m\u001b[0m\n\u001b[1;32m     77\u001b[0m \u001b[0;34m\u001b[0m\u001b[0m\n",
            "\u001b[0;32m/usr/local/lib/python3.6/dist-packages/sympy/concrete/expr_with_limits.py\u001b[0m in \u001b[0;36m__new__\u001b[0;34m(cls, function, *symbols, **assumptions)\u001b[0m\n\u001b[1;32m    354\u001b[0m         \u001b[0;31m# This constructor only differs from ExprWithLimits\u001b[0m\u001b[0;34m\u001b[0m\u001b[0;34m\u001b[0m\u001b[0;34m\u001b[0m\u001b[0m\n\u001b[1;32m    355\u001b[0m         \u001b[0;31m# in the application of the orientation variable.  Perhaps merge?\u001b[0m\u001b[0;34m\u001b[0m\u001b[0;34m\u001b[0m\u001b[0;34m\u001b[0m\u001b[0m\n\u001b[0;32m--> 356\u001b[0;31m         \u001b[0mfunction\u001b[0m \u001b[0;34m=\u001b[0m \u001b[0msympify\u001b[0m\u001b[0;34m(\u001b[0m\u001b[0mfunction\u001b[0m\u001b[0;34m)\u001b[0m\u001b[0;34m\u001b[0m\u001b[0;34m\u001b[0m\u001b[0m\n\u001b[0m\u001b[1;32m    357\u001b[0m         \u001b[0;32mif\u001b[0m \u001b[0mhasattr\u001b[0m\u001b[0;34m(\u001b[0m\u001b[0mfunction\u001b[0m\u001b[0;34m,\u001b[0m \u001b[0;34m'func'\u001b[0m\u001b[0;34m)\u001b[0m \u001b[0;32mand\u001b[0m \u001b[0mfunction\u001b[0m\u001b[0;34m.\u001b[0m\u001b[0mfunc\u001b[0m \u001b[0;32mis\u001b[0m \u001b[0mEquality\u001b[0m\u001b[0;34m:\u001b[0m\u001b[0;34m\u001b[0m\u001b[0;34m\u001b[0m\u001b[0m\n\u001b[1;32m    358\u001b[0m             \u001b[0mlhs\u001b[0m \u001b[0;34m=\u001b[0m \u001b[0mfunction\u001b[0m\u001b[0;34m.\u001b[0m\u001b[0mlhs\u001b[0m\u001b[0;34m\u001b[0m\u001b[0;34m\u001b[0m\u001b[0m\n",
            "\u001b[0;32m/usr/local/lib/python3.6/dist-packages/sympy/core/sympify.py\u001b[0m in \u001b[0;36msympify\u001b[0;34m(a, locals, convert_xor, strict, rational, evaluate)\u001b[0m\n\u001b[1;32m    354\u001b[0m         \u001b[0mexpr\u001b[0m \u001b[0;34m=\u001b[0m \u001b[0mparse_expr\u001b[0m\u001b[0;34m(\u001b[0m\u001b[0ma\u001b[0m\u001b[0;34m,\u001b[0m \u001b[0mlocal_dict\u001b[0m\u001b[0;34m=\u001b[0m\u001b[0mlocals\u001b[0m\u001b[0;34m,\u001b[0m \u001b[0mtransformations\u001b[0m\u001b[0;34m=\u001b[0m\u001b[0mtransformations\u001b[0m\u001b[0;34m,\u001b[0m \u001b[0mevaluate\u001b[0m\u001b[0;34m=\u001b[0m\u001b[0mevaluate\u001b[0m\u001b[0;34m)\u001b[0m\u001b[0;34m\u001b[0m\u001b[0;34m\u001b[0m\u001b[0m\n\u001b[1;32m    355\u001b[0m     \u001b[0;32mexcept\u001b[0m \u001b[0;34m(\u001b[0m\u001b[0mTokenError\u001b[0m\u001b[0;34m,\u001b[0m \u001b[0mSyntaxError\u001b[0m\u001b[0;34m)\u001b[0m \u001b[0;32mas\u001b[0m \u001b[0mexc\u001b[0m\u001b[0;34m:\u001b[0m\u001b[0;34m\u001b[0m\u001b[0;34m\u001b[0m\u001b[0m\n\u001b[0;32m--> 356\u001b[0;31m         \u001b[0;32mraise\u001b[0m \u001b[0mSympifyError\u001b[0m\u001b[0;34m(\u001b[0m\u001b[0;34m'could not parse %r'\u001b[0m \u001b[0;34m%\u001b[0m \u001b[0ma\u001b[0m\u001b[0;34m,\u001b[0m \u001b[0mexc\u001b[0m\u001b[0;34m)\u001b[0m\u001b[0;34m\u001b[0m\u001b[0;34m\u001b[0m\u001b[0m\n\u001b[0m\u001b[1;32m    357\u001b[0m \u001b[0;34m\u001b[0m\u001b[0m\n\u001b[1;32m    358\u001b[0m     \u001b[0;32mreturn\u001b[0m \u001b[0mexpr\u001b[0m\u001b[0;34m\u001b[0m\u001b[0;34m\u001b[0m\u001b[0m\n",
            "\u001b[0;31mSympifyError\u001b[0m: Sympify of expression 'could not parse '<function f at 0x7f18bb87cea0>'' failed, because of exception being raised:\nSyntaxError: invalid syntax (<string>, line 1)"
          ]
        }
      ]
    },
    {
      "cell_type": "code",
      "metadata": {
        "id": "8qivNgNPazpd",
        "outputId": "7cdc8bb7-f077-4d67-a4c0-4a8d44a5f4a0",
        "colab": {
          "base_uri": "https://localhost:8080/",
          "height": 297
        }
      },
      "source": [
        "%matplotlib inline\n",
        "from scipy.integrate import odeint\n",
        "import numpy as N\n",
        "\n",
        "def f(y, t):\n",
        "    \"\"\"this is the rhs of the ODE to integrate, i.e. dy/dt=f(y,t)\"\"\"\n",
        "    return -2 * y * t\n",
        "\n",
        "y0 = 1             # initial value\n",
        "a = 0              # integration limits for t\n",
        "b = 2\n",
        "\n",
        "t = N.arange(a, b, 0.01)  # values of t for\n",
        "                          # which we require\n",
        "                          # the solution y(t)\n",
        "y = odeint(f, y0, t)  # actual computation of y(t)\n",
        "\n",
        "import pylab          # plotting of results\n",
        "pylab.plot(t, y)\n",
        "pylab.xlabel('t'); pylab.ylabel('y(t)')"
      ],
      "execution_count": null,
      "outputs": [
        {
          "output_type": "execute_result",
          "data": {
            "text/plain": [
              "Text(0, 0.5, 'y(t)')"
            ]
          },
          "metadata": {
            "tags": []
          },
          "execution_count": 9
        },
        {
          "output_type": "display_data",
          "data": {
            "image/png": "[encoded data removed]",
            "text/plain": [
              "<Figure size 432x288 with 1 Axes>"
            ]
          },
          "metadata": {
            "tags": [],
            "needs_background": "light"
          }
        }
      ]
    },
    {
      "cell_type": "markdown",
      "metadata": {
        "id": "8xVbBDdkC2mh"
      },
      "source": [
        "MATLAB code using "
      ]
    },
    {
      "cell_type": "code",
      "metadata": {
        "id": "3ghu2XjYbRzk"
      },
      "source": [
        "clc\n",
        "clear all;\n",
        "close all;\n",
        "\n",
        "th = 0:0.1:40; % scattering angle (in degrees)\n",
        "% Formulation and other parameters of calculation\n",
        "Ek = 13.6 ; % K shell BE of H\n",
        "Ek_1 = Ek/27.211; %Energy is converted to au\n",
        "E = 500; % Incident energy for H 1s- 1s and 1s-2s transition\n",
        "E_1 = E/27.211;\n",
        "k_i = sqrt(2*E_1); % momentum for incident energy\n",
        "%k_j = sqrt(2*(E_1-Ek_1)) % momentum for scattered electron\n",
        "k_j = sqrt((k_i*k_i)-(3/4)); % momentum for scattered electron\n",
        "\n",
        "%-----Integral calculation for 1s2s------------------------\n",
        "for n = 1:length(th)\n",
        "    del(n) = sqrt((k_i*k_i)+(k_j*k_j)-(2*k_i*k_j*cosd(th(n))));\n",
        "    fun=@(r,u) (r.^2).*(2-r).*exp(-3.*r./2).*exp(1i*del(n).*r.*u);\n",
        "%     g = @(r) integral(@(u) fun(r,u) ,-1,1);\n",
        "    I(n)= -(1/(1.414*(del(n).^2)))*(integral2( fun ,0,10,-1,1));\n",
        "    crss(n)=(I(n).^2);\n",
        "    %crss(n)=(k_j/k_i)*crss(n)^2;\n",
        "%     crss(i)=crss(i)/300;\n",
        "end\n",
        "%-----Plotting already given cross section formula for 1s2s-----------\n",
        "for i = 1:length(th)\n",
        "del(i) = sqrt((k_i*k_i)+(k_j*k_j)-(2*k_i*k_j*cosd(th(i))));\n",
        "crss2(i) = (k_i/k_j)*128/(((del(i)*del(i))+(9/4))^6);\n",
        "end \n",
        "semilogy(th,crss2,'r')\n",
        "hold on\n",
        "\n",
        "semilogy(th,crss,'b')\n",
        "%ylim([0.001 1])\n",
        "xlabel('\\theta','fontsize',14)\n",
        "ylabel('d\\sigma/d\\Omega (a.u.)','fontsize',14)"
      ],
      "execution_count": null,
      "outputs": []
    },
    {
      "cell_type": "markdown",
      "metadata": {
        "id": "evqhtyWhc55b"
      },
      "source": [
        "Integration is performed using the Gauss Quadrature method over the variables r, theta and phi\t\n",
        "\n",
        "The final output of the SUbroutine is the variable Val, which is the transition matrix for the \t*\n",
        "\n",
        "Hydrogen atom here. The final wave function is the Coulomb wave function .\t\t\t*\n",
        "\n",
        "\n",
        "The same can be computed for other other and modified wavefunctions,simply by incorporating the * \n",
        "\n",
        "Atomic number of the atom and the corresponding initial and final wavefunctions.\n"
      ]
    },
    {
      "cell_type": "code",
      "metadata": {
        "id": "9YEtx-iwcHKR"
      },
      "source": [
        ""
      ],
      "execution_count": null,
      "outputs": []
    },
    {
      "cell_type": "code",
      "metadata": {
        "id": "YPf6ZlfjhIsL",
        "outputId": "704e49b2-2c94-4330-e797-eb3794daafd8",
        "colab": {
          "base_uri": "https://localhost:8080/",
          "height": 386
        }
      },
      "source": [
        "# Import libraries \n",
        "import matplotlib.pyplot as plt \n",
        "import numpy as np \n",
        "  \n",
        "# Creating vectors X and Y \n",
        "x = np.linspace(0, 1, 100) \n",
        "ki = 2\n",
        "kj= 1.5 \n",
        "delta = (ki**2+kj**2-2*ki*kj*np.cos(x))**0.5\n",
        "y = (128*kj)/(ki*(delta**2+9/4)**6)\n",
        "\n",
        "print(\"Delta Min = \",ki-kj)\n",
        "print(\"Delta Max\",ki+kj) \n",
        "fig = plt.figure(figsize = (10, 5)) \n",
        "# Create the plot \n",
        "plt.plot(x, y) \n",
        "  \n",
        "plt.title('Elastic Scattering') \n",
        "plt.xlabel('Theta') \n",
        "plt.ylabel('Scattering Amplitude') \n",
        "  \n",
        "# Show the plot \n",
        "plt.show() "
      ],
      "execution_count": null,
      "outputs": [
        {
          "output_type": "stream",
          "text": [
            "Delta Min =  0.5\n",
            "Delta Max 3.5\n"
          ],
          "name": "stdout"
        },
        {
          "output_type": "display_data",
          "data": {
            "image/png": "[encoded data removed]",
            "text/plain": [
              "<Figure size 720x360 with 1 Axes>"
            ]
          },
          "metadata": {
            "tags": [],
            "needs_background": "light"
          }
        }
      ]
    },
    {
      "cell_type": "code",
      "metadata": {
        "id": "1jsDJV9BORsN"
      },
      "source": [
        "%matplotlib inline\n",
        "import numpy as np\n",
        "import sympy as sym"
      ],
      "execution_count": null,
      "outputs": []
    },
    {
      "cell_type": "code",
      "metadata": {
        "id": "KiZj6DgzVWWi",
        "outputId": "2df712ab-127e-4f86-8545-834226fea5f1",
        "colab": {
          "base_uri": "https://localhost:8080/"
        }
      },
      "source": [
        "x = sym.Symbol('x', real=True) \n",
        "f = sym.exp(x)\n",
        "I_exacta = sym.integrate(f,(x,0,3))\n",
        "print(I_exacta)"
      ],
      "execution_count": null,
      "outputs": [
        {
          "output_type": "stream",
          "text": [
            "-1 + exp(3)\n"
          ],
          "name": "stdout"
        }
      ]
    },
    {
      "cell_type": "code",
      "metadata": {
        "id": "kaLTymXdWwVE",
        "outputId": "f9dc5ea5-55ac-430f-b237-0a29e258fb34",
        "colab": {
          "base_uri": "https://localhost:8080/"
        }
      },
      "source": [
        "I_exacta = float(I_exacta)\n",
        "print(I_exacta)"
      ],
      "execution_count": null,
      "outputs": [
        {
          "output_type": "stream",
          "text": [
            "19.085536923187668\n"
          ],
          "name": "stdout"
        }
      ]
    },
    {
      "cell_type": "markdown",
      "metadata": {
        "id": "4PmI_lLPi7eu"
      },
      "source": [
        "Electon impact ionisation of atoms(13.247)\n",
        "\n",
        "***First Born Approximation***"
      ]
    },
    {
      "cell_type": "code",
      "metadata": {
        "id": "07rvNxWYX-7n"
      },
      "source": [
        "import math\n",
        "import numpy\n",
        "import pylab\n",
        "\n",
        "\n",
        "ka = 2\n",
        "kb = 2\n",
        "ki = 1\n",
        "j = 30 #(j = thetaE - thetaK)\n",
        "delta = ki-ka\n",
        "fact = ((2**8)*ka)/(3.14*ki)\n",
        "num1 = delta**2-2*delta*kb*np.cos(j) + (kb**2+1)*((np.cos(j))**2)\n",
        "deno1 = ((delta**2)*((delta**2)+(kb**2)-2*delta*kb*(np.cos(j)+1)**4)\n",
        "deno2 = ((delta+kb)**2+1)\n",
        "deno3 = ((delta-kb)**2+1)\n",
        "num2 = math.exp(-1*(2/kb)*math.atan((2*kb)/(delta**2-kb**2+1)))\n",
        "deno4 = 1-math.exp((-1*3.14*2)/(kb))\n",
        "y = (fact*num1*num2)/(deno1*deno2*deno3)\n",
        "\n",
        "\n",
        "\n"
      ],
      "execution_count": null,
      "outputs": []
    },
    {
      "cell_type": "markdown",
      "metadata": {
        "id": "vdNmpWkKhdZo"
      },
      "source": [
        "***First Born Approximation***"
      ]
    },
    {
      "cell_type": "code",
      "metadata": {
        "id": "KLFyyCAQjPU4"
      },
      "source": [
        "import math\n",
        "import numpy\n",
        "import pylab\n",
        "\n",
        "ki = 1\n",
        "ka = 0.5\n",
        "kb = 1\n",
        "delta = ki-ka\n",
        "\n",
        "v = (delta**2-kb**2+1)/((delta-kb)**2+1)\n",
        "num1 = 4*1.414*math.exp(3.14/(2*kb))\n",
        "num2 = (delta*(delta-kb*(1)))\n",
        "deno1 = delta**2-(kb**2+1)\n",
        "deno2 = ((delta-kb)**2+1)**2\n",
        "ro = (num1*num2)/(deno1*deno2)\n",
        "\n",
        "f = (-2*ro)/(delta**2) ##Born first approximation\n",
        "\n",
        "#TDSC\n",
        "\n",
        "td = ((ka*kb)/ki)*((f)**2)\n"
      ],
      "execution_count": null,
      "outputs": []
    },
    {
      "cell_type": "markdown",
      "metadata": {
        "id": "N0M_3-K_mz7a"
      },
      "source": [
        "*SIMPSON'S RULE* "
      ]
    },
    {
      "cell_type": "code",
      "metadata": {
        "id": "3Tdg8OlkiXKu",
        "outputId": "51b50004-f172-47fc-8158-50faf913b83d",
        "colab": {
          "base_uri": "https://localhost:8080/",
          "height": 646
        }
      },
      "source": [
        "#            SIMPSON'S RULES                    \n",
        "#Calculating the integral of f(x) = sin (pi x) over the interval [0,1], using N = 3,7,15 and 31 slabs/intervals, for odd Ns.\n",
        "#Plotting the absolute error vs delta = (b-a)/N.\n",
        "\n",
        "import math\n",
        "import numpy\n",
        "import pylab\n",
        "\n",
        "\n",
        "\n",
        "def func(x):\n",
        "    fx = numpy.sin(math.pi*x)\n",
        "    return fx\n",
        "\n",
        "def exact_int(a,b):\n",
        "    I = (numpy.cos(math.pi*a) - numpy.cos(math.pi*b ))/math.pi\n",
        "    return I\n",
        "\n",
        "\n",
        "def simpson_int_odd(a,b,f,N): \n",
        "    \"\"\" calculates remaining odd slabs \"\"\"\n",
        "    xedge = numpy.linspace(a,b,N+1)\n",
        "    delta = xedge[1] - xedge[0]\n",
        "    Is_odd = (delta/12.0)*(-f(xedge[N-2]) + 8.0*f(xedge[N-1]) + 5.0*f(xedge[N]))\n",
        "    return Is_odd\n",
        "\n",
        "\n",
        "def simpson_int(a,b,f,N):\n",
        "    \"\"\"\"do a Simpson's integration by breaking up the domain [a,b] into N, considering N is even.\"\"\"\n",
        "    # MZ -- you were passing in the wrong N, so the xedge was wrong\n",
        "    xedge = numpy.linspace(a,b,N+1)\n",
        "    delta = xedge[1] - xedge[0]\n",
        "    Is = 0.0\n",
        "    n = 0\n",
        "    # MZ: with the proper N, this loop executed too many times\n",
        "    while n < N-1:\n",
        "        Is += (delta/3.0)*(f(xedge[n]) + 4.0*f(xedge[n+1]) + f(xedge[n+2]))\n",
        "        n += 2\n",
        "\n",
        "    return Is\n",
        "\n",
        "\n",
        "def printing(slab, I, Is, ea):\n",
        "    \"\"\" print output \"\"\"\n",
        "    print(\"\\nNumber of slabs to be Integrated: \", slab)\n",
        "    print(\"Simpson's Integral value: \", Is)\n",
        "    print(\"Analytic Integral value: \", I)\n",
        "    print(\"Absolute error: \", ea)\n",
        "    return 0\n",
        "\n",
        "\n",
        "#Variables\n",
        "\n",
        "CONST_A = 0.0\n",
        "CONST_B = 1.0\n",
        "CONST_N_SLABS = [3, 7, 15, 31]\n",
        "\n",
        "ea_array = []\n",
        "delta_array = []\n",
        "\n",
        "\n",
        "\n",
        "\n",
        "for i in range (len(CONST_N_SLABS)):\n",
        "    slab = CONST_N_SLABS[i]\n",
        "    \n",
        "    if not slab%2 == 0:\n",
        "        Is_odd = simpson_int_odd(CONST_A, CONST_B, func, slab)\n",
        "        edge = slab - 1\n",
        "        \n",
        "    else:\n",
        "        edge = slab \n",
        "        Is_odd = 0.0\n",
        "\n",
        "    # MZ: you don't call this with edge -- your linspace needs to know the\n",
        "    # correct N (not N-1) to get the right xedge values, so you call\n",
        "    # with slab\n",
        "    Is = simpson_int(CONST_A, CONST_B, func, slab) \n",
        "    Is = Is + Is_odd    \n",
        "    I = exact_int(CONST_A, CONST_B)\n",
        "\n",
        "    ea =   abs(Is - I)\n",
        "    delta = abs(CONST_B -CONST_A)/slab\n",
        "    \n",
        "    printing(slab, I, Is, ea)\n",
        "    \n",
        "    ea_array.append(ea)\n",
        "    delta_array.append(delta)\n",
        "\n",
        "    \n",
        "    \n",
        "\n",
        "\n",
        "#Plot ea-vs-delta\n",
        "pylab.loglog(delta_array, ea_array,  'bo')\n",
        "pylab.xlabel('$\\delta$ = (b-a)/N')\n",
        "pylab.ylabel('Absolute Error')\n",
        "pylab.grid(True)\n",
        "pylab.savefig(\"simp.png\")\n",
        "\n",
        "\n",
        "#Plot ea-vs-N\n",
        "pylab.clf()\n",
        "pylab.cla()\n",
        "pylab.loglog(CONST_N_SLABS, ea_array,  'go')\n",
        "pylab.xlabel('N')\n",
        "pylab.ylabel('Absolute Error')\n",
        "pylab.grid(True)\n",
        "pylab.savefig(\"simp2.png\")\n",
        "\n",
        "\n",
        "\n",
        "\n",
        "\n",
        "\n"
      ],
      "execution_count": 5,
      "outputs": [
        {
          "output_type": "stream",
          "text": [
            "\n",
            "Number of slabs to be Integrated:  3\n",
            "Simpson's Integral value:  0.649519052838329\n",
            "Analytic Integral value:  0.6366197723675814\n",
            "Absolute error:  0.01289928047074762\n",
            "\n",
            "Number of slabs to be Integrated:  7\n",
            "Simpson's Integral value:  0.6372516510050009\n",
            "Analytic Integral value:  0.6366197723675814\n",
            "Absolute error:  0.0006318786374195362\n",
            "\n",
            "Number of slabs to be Integrated:  15\n",
            "Simpson's Integral value:  0.6366515753937014\n",
            "Analytic Integral value:  0.6366197723675814\n",
            "Absolute error:  3.1803026120047484e-05\n",
            "\n",
            "Number of slabs to be Integrated:  31\n",
            "Simpson's Integral value:  0.6366215376075163\n",
            "Analytic Integral value:  0.6366197723675814\n",
            "Absolute error:  1.7652399348921932e-06\n"
          ],
          "name": "stdout"
        },
        {
          "output_type": "display_data",
          "data": {
            "image/png": "[encoded data removed]",
            "text/plain": [
              "<Figure size 432x288 with 1 Axes>"
            ]
          },
          "metadata": {
            "tags": [],
            "needs_background": "light"
          }
        }
      ]
    }
  ]
}